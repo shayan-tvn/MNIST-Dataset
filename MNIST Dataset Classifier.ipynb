{
 "cells": [
  {
   "cell_type": "code",
   "execution_count": null,
   "id": "9f7444e5-3265-4899-b39c-843aef3ee7ff",
   "metadata": {},
   "outputs": [],
   "source": [
    "from sklearn.datasets import fetch_openml\n",
    "from sklearn.model_selection import train_test_split\n",
    "from sklearn.neighbors import KNeighborsClassifier\n",
    "from sklearn.experimental import enable_halving_search_cv\n",
    "from sklearn.model_selection import HalvingGridSearchCV\n",
    "from sklearn.metrics import accuracy_score\n",
    "\n",
    "# 1. بارگذاری دیتاست MNIST\n",
    "mnist = fetch_openml('mnist_784', version=1)\n",
    "X, y = mnist.data, mnist.target.astype(int)\n",
    "\n",
    "# 2. تبدیل داده‌ها به نوع فشرده‌تر\n",
    "X = X.astype('float32')\n",
    "\n",
    "# 3. تقسیم داده به مجموعه‌های آموزش و تست\n",
    "X_train, X_test, y_train, y_test = train_test_split(X, y, test_size=0.2, random_state=42)\n",
    "\n",
    "# 4. تعریف مدل KNeighborsClassifier\n",
    "knn = KNeighborsClassifier()\n",
    "\n",
    "# 5. تعریف پارامترها برای جستجوی شبکه‌ای\n",
    "param_grid = {\n",
    "    'n_neighbors': [3, 5, 7],\n",
    "    'weights': ['uniform', 'distance']\n",
    "}\n",
    "\n",
    "# 6. استفاده از HalvingGridSearchCV\n",
    "halving_search = HalvingGridSearchCV(knn, param_grid, scoring='accuracy', n_jobs=-1)\n",
    "halving_search.fit(X_train, y_train)\n",
    "\n",
    "# 7. نمایش بهترین هایپرپارامترها\n",
    "print(\"Best parameters:\", halving_search.best_params_)\n",
    "\n",
    "# 8. ارزیابی مدل با بهترین پارامترها\n",
    "best_knn = halving_search.best_estimator_\n",
    "y_pred = best_knn.predict(X_test)\n",
    "accuracy = accuracy_score(y_test, y_pred)\n",
    "\n",
    "# 9. نمایش دقت مدل\n",
    "print(\"Accuracy on test set:\", accuracy)\n"
   ]
  }
 ],
 "metadata": {
  "kernelspec": {
   "display_name": "Python 3 (ipykernel)",
   "language": "python",
   "name": "python3"
  },
  "language_info": {
   "codemirror_mode": {
    "name": "ipython",
    "version": 3
   },
   "file_extension": ".py",
   "mimetype": "text/x-python",
   "name": "python",
   "nbconvert_exporter": "python",
   "pygments_lexer": "ipython3",
   "version": "3.12.4"
  }
 },
 "nbformat": 4,
 "nbformat_minor": 5
}
